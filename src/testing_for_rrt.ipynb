{
 "cells": [
  {
   "cell_type": "code",
   "execution_count": 4,
   "metadata": {},
   "outputs": [],
   "source": [
    "from scipy.optimize import fsolve, root\n",
    "import math\n",
    "import random as rd\n",
    "import networkx as nx\n",
    "import cv2\n"
   ]
  },
  {
   "cell_type": "code",
   "execution_count": 2,
   "metadata": {},
   "outputs": [
    {
     "name": "stdout",
     "output_type": "stream",
     "text": [
      "1\n"
     ]
    }
   ],
   "source": [
    "f = lambda x: x**2 - 8*x + 16\n",
    "print(f(5))"
   ]
  },
  {
   "cell_type": "code",
   "execution_count": 3,
   "metadata": {},
   "outputs": [
    {
     "data": {
      "text/plain": [
       "array([4.00000003, 3.99999999])"
      ]
     },
     "execution_count": 3,
     "metadata": {},
     "output_type": "execute_result"
    }
   ],
   "source": [
    "fsolve(f, [10,1])"
   ]
  },
  {
   "cell_type": "code",
   "execution_count": 39,
   "metadata": {},
   "outputs": [],
   "source": [
    "# -- Define Variables\n",
    "stepSize = 1\n",
    "prevNode = [6, 5]\n",
    "sample = [4, 3]"
   ]
  },
  {
   "cell_type": "code",
   "execution_count": 40,
   "metadata": {},
   "outputs": [],
   "source": [
    "# -- get equation of line\n",
    "slope = (prevNode[1] - sample[1]) / (prevNode[0] - sample[0])\n",
    "\n",
    "b =  prevNode[1] - (slope * prevNode[0])"
   ]
  },
  {
   "cell_type": "code",
   "execution_count": 41,
   "metadata": {},
   "outputs": [
    {
     "name": "stdout",
     "output_type": "stream",
     "text": [
      "6\n",
      "5\n"
     ]
    }
   ],
   "source": [
    "x_true = prevNode[0] + (stepSize / math.sqrt(1 + slope**2))\n",
    "y_true = prevNode[1] + slope * (x_true - prevNode[0])\n",
    "\n",
    "print(int(x_true))\n",
    "print(int(y_true))"
   ]
  },
  {
   "cell_type": "code",
   "execution_count": 22,
   "metadata": {},
   "outputs": [
    {
     "name": "stdout",
     "output_type": "stream",
     "text": [
      "[5, 3]\n",
      "1.414213562383367\n"
     ]
    }
   ],
   "source": [
    "# -- Use distance formula to find two possible points \n",
    "x_equation = lambda x: (x-prevNode[0])**2 - (stepSize**2)\n",
    "y_equation = lambda y: (y-prevNode[1])**2 - (stepSize**2)\n",
    "\n",
    "x_positions = fsolve(x_equation, [10, 1])\n",
    "y_positions = fsolve(y_equation, [10, 1])\n",
    "\n",
    "point_a = [x_positions[0], y_positions[0]]\n",
    "point_b = [x_positions[1], y_positions[1]]\n",
    "\n",
    "dist_a = math.dist(point_a, sample)\n",
    "dist_b = math.dist(point_b, sample)\n",
    "\n",
    "if dist_a < dist_b:\n",
    "    point_a[0] = int(point_a[0])\n",
    "    point_a[1] = int(point_a[1])\n",
    "    print(point_a)\n",
    "    print(dist_a)\n",
    "else:\n",
    "    point_b[0] = int(point_b[0])\n",
    "    point_b[1] = int(point_b[1])\n",
    "    print(point_b)\n",
    "    print(dist_b)\n",
    "\n"
   ]
  },
  {
   "cell_type": "code",
   "execution_count": 7,
   "metadata": {},
   "outputs": [
    {
     "name": "stdout",
     "output_type": "stream",
     "text": [
      "302\n"
     ]
    }
   ],
   "source": [
    "randNum = rd.randrange(0, 400)\n",
    "print(randNum)"
   ]
  },
  {
   "cell_type": "code",
   "execution_count": 6,
   "metadata": {},
   "outputs": [
    {
     "name": "stdout",
     "output_type": "stream",
     "text": [
      "4\n"
     ]
    }
   ],
   "source": [
    "g = nx.Graph()\n",
    "g.add_node(1)\n",
    "g.nodes[1]['x'] = 4\n",
    "g.nodes[1]['y'] = 3\n",
    "\n",
    "for node in g.nodes:\n",
    "    x = g.nodes[node]['x']\n",
    "    print(x)"
   ]
  },
  {
   "cell_type": "code",
   "execution_count": 7,
   "metadata": {},
   "outputs": [
    {
     "ename": "error",
     "evalue": "OpenCV(4.6.0) :-1: error: (-5:Bad argument) in function 'imshow'\n> Overload resolution failed:\n>  - imshow() missing required argument 'mat' (pos 2)\n>  - imshow() missing required argument 'mat' (pos 2)\n>  - imshow() missing required argument 'mat' (pos 2)\n",
     "output_type": "error",
     "traceback": [
      "\u001b[1;31m---------------------------------------------------------------------------\u001b[0m",
      "\u001b[1;31merror\u001b[0m                                     Traceback (most recent call last)",
      "Cell \u001b[1;32mIn[7], line 2\u001b[0m\n\u001b[0;32m      1\u001b[0m img \u001b[39m=\u001b[39m cv2\u001b[39m.\u001b[39mimread(\u001b[39m'\u001b[39m\u001b[39mmaze1.png\u001b[39m\u001b[39m'\u001b[39m)\n\u001b[1;32m----> 2\u001b[0m cv2\u001b[39m.\u001b[39;49mimshow(img)\n",
      "\u001b[1;31merror\u001b[0m: OpenCV(4.6.0) :-1: error: (-5:Bad argument) in function 'imshow'\n> Overload resolution failed:\n>  - imshow() missing required argument 'mat' (pos 2)\n>  - imshow() missing required argument 'mat' (pos 2)\n>  - imshow() missing required argument 'mat' (pos 2)\n"
     ]
    }
   ],
   "source": [
    "img = cv2.imread('maze1.png')\n",
    "cv2.imshow(\"maze 1\", img)"
   ]
  }
 ],
 "metadata": {
  "kernelspec": {
   "display_name": "Python 3",
   "language": "python",
   "name": "python3"
  },
  "language_info": {
   "codemirror_mode": {
    "name": "ipython",
    "version": 3
   },
   "file_extension": ".py",
   "mimetype": "text/x-python",
   "name": "python",
   "nbconvert_exporter": "python",
   "pygments_lexer": "ipython3",
   "version": "3.10.11"
  },
  "orig_nbformat": 4
 },
 "nbformat": 4,
 "nbformat_minor": 2
}
